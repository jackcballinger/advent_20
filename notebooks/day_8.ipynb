{
 "cells": [
  {
   "cell_type": "code",
   "execution_count": 16,
   "metadata": {},
   "outputs": [],
   "source": [
    "import random\n",
    "\n",
    "from utils import get_file_location"
   ]
  },
  {
   "cell_type": "code",
   "execution_count": 84,
   "metadata": {},
   "outputs": [],
   "source": [
    "with open(get_file_location(day=8)) as f:\n",
    "    data = [[x.split(' ')[0], int(x.split(' ')[1])] for x in f.read().split('\\n')]\n",
    "data = list(zip(random.sample(range(0,len(data)), len(data)), data))"
   ]
  },
  {
   "cell_type": "code",
   "execution_count": 85,
   "metadata": {},
   "outputs": [
    {
     "name": "stdout",
     "output_type": "stream",
     "text": [
      "1451\n"
     ]
    }
   ],
   "source": [
    "# part 1\n",
    "accumulator = 0\n",
    "i = 0\n",
    "used_list = []\n",
    "while True:\n",
    "    move = data[i]\n",
    "    if not move[0] in used_list:\n",
    "        if move[1][0] == 'jmp':\n",
    "            i += move[1][1]\n",
    "        elif move[1][0] == 'acc':\n",
    "            accumulator += move[1][1]\n",
    "            i += 1\n",
    "        elif move[1][0] == 'nop':\n",
    "            i += 1\n",
    "        used_list.append(move[0])\n",
    "    else:\n",
    "        break\n",
    "print(accumulator) # 1451"
   ]
  },
  {
   "cell_type": "code",
   "execution_count": 93,
   "metadata": {},
   "outputs": [
    {
     "name": "stdout",
     "output_type": "stream",
     "text": [
      "1160\n",
      "[(34, ['jmp', -207])]\n"
     ]
    }
   ],
   "source": [
    "def test_for_corruptness(data):\n",
    "    i = 0\n",
    "    accumulator = 0\n",
    "    used_list = []\n",
    "    while True:\n",
    "        if i == len(data):\n",
    "            return False, accumulator\n",
    "        move = data[i]\n",
    "        if not move[0] in used_list:\n",
    "            if move[1][0] == 'jmp':\n",
    "                i += move[1][1]\n",
    "            elif move[1][0] == 'acc':\n",
    "                accumulator += move[1][1]\n",
    "                i += 1\n",
    "            elif move[1][0] == 'nop':\n",
    "                i += 1\n",
    "            used_list.append(move[0])\n",
    "        else:\n",
    "            return True, accumulator\n",
    "\n",
    "\n",
    "corrupt_lines = []\n",
    "for line in data:\n",
    "    if line[1][0] == 'nop':\n",
    "        line[1][0] = line[1][0].replace('nop','jmp')\n",
    "        corrupt, accumulator = test_for_corruptness(data)\n",
    "        if corrupt == False:\n",
    "            corrupt_lines.append(line)\n",
    "            print(accumulator)\n",
    "        line[1][0] = line[1][0].replace('jmp','nop')\n",
    "    elif line[1][0] == 'jmp':\n",
    "        line[1][0] = line[1][0].replace('jmp','nop')\n",
    "        corrupt, accumulator = test_for_corruptness(data)\n",
    "        if corrupt == False:\n",
    "            corrupt_lines.append(line)\n",
    "            print(accumulator)\n",
    "        line[1][0] = line[1][0].replace('nop','jmp')\n",
    "print(corrupt_lines)"
   ]
  },
  {
   "cell_type": "code",
   "execution_count": null,
   "metadata": {},
   "outputs": [],
   "source": []
  },
  {
   "cell_type": "code",
   "execution_count": null,
   "metadata": {},
   "outputs": [],
   "source": []
  }
 ],
 "metadata": {
  "kernelspec": {
   "display_name": "Python 3",
   "language": "python",
   "name": "python3"
  },
  "language_info": {
   "codemirror_mode": {
    "name": "ipython",
    "version": 3
   },
   "file_extension": ".py",
   "mimetype": "text/x-python",
   "name": "python",
   "nbconvert_exporter": "python",
   "pygments_lexer": "ipython3",
   "version": "3.8.0"
  }
 },
 "nbformat": 4,
 "nbformat_minor": 4
}
