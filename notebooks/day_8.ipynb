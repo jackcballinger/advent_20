{
 "cells": [
  {
   "cell_type": "code",
   "execution_count": 40,
   "metadata": {},
   "outputs": [],
   "source": [
    "import random\n",
    "\n",
    "from utils import get_file_location"
   ]
  },
  {
   "cell_type": "code",
   "execution_count": 41,
   "metadata": {},
   "outputs": [],
   "source": [
    "with open(get_file_location(day=8)) as f:\n",
    "    data = [[x.split(' ')[0], int(x.split(' ')[1])] for x in f.read().split('\\n')]\n",
    "data = list(zip(random.sample(range(0,len(data)), len(data)), data))"
   ]
  },
  {
   "cell_type": "code",
   "execution_count": 42,
   "metadata": {},
   "outputs": [
    {
     "name": "stdout",
     "output_type": "stream",
     "text": [
      "1451\n"
     ]
    }
   ],
   "source": [
    "# part 1 - first answer\n",
    "accumulator = 0\n",
    "i = 0\n",
    "used_list = []\n",
    "while True:\n",
    "    move = data[i]\n",
    "    if not move[0] in used_list:\n",
    "        if move[1][0] == 'jmp':\n",
    "            i += move[1][1]\n",
    "        elif move[1][0] == 'acc':\n",
    "            accumulator += move[1][1]\n",
    "            i += 1\n",
    "        elif move[1][0] == 'nop':\n",
    "            i += 1\n",
    "        used_list.append(move[0])\n",
    "    else:\n",
    "        break\n",
    "print(accumulator) # 1451"
   ]
  },
  {
   "cell_type": "code",
   "execution_count": 43,
   "metadata": {},
   "outputs": [
    {
     "name": "stdout",
     "output_type": "stream",
     "text": [
      "1160\n"
     ]
    }
   ],
   "source": [
    "def test_for_corruptness(data):\n",
    "    i = 0\n",
    "    accumulator = 0\n",
    "    used_list = []\n",
    "    while True:\n",
    "        if i == len(data):\n",
    "            return False, accumulator\n",
    "        move = data[i]\n",
    "        if not move[0] in used_list:\n",
    "            if move[1][0] == 'jmp':\n",
    "                i += move[1][1]\n",
    "            elif move[1][0] == 'acc':\n",
    "                accumulator += move[1][1]\n",
    "                i += 1\n",
    "            elif move[1][0] == 'nop':\n",
    "                i += 1\n",
    "            used_list.append(move[0])\n",
    "        else:\n",
    "            return True, accumulator\n",
    "\n",
    "\n",
    "corrupt_lines = []\n",
    "for line in data:\n",
    "    if line[1][0] == 'nop':\n",
    "        line[1][0] = line[1][0].replace('nop','jmp')\n",
    "        corrupt, accumulator = test_for_corruptness(data)\n",
    "        if corrupt == False:\n",
    "            corrupt_lines.append(line)\n",
    "            print(accumulator)\n",
    "        line[1][0] = line[1][0].replace('jmp','nop')\n",
    "    elif line[1][0] == 'jmp':\n",
    "        line[1][0] = line[1][0].replace('jmp','nop')\n",
    "        corrupt, accumulator = test_for_corruptness(data)\n",
    "        if corrupt == False:\n",
    "            corrupt_lines.append(line)\n",
    "            print(accumulator)\n",
    "        line[1][0] = line[1][0].replace('nop','jmp')"
   ]
  },
  {
   "cell_type": "code",
   "execution_count": 44,
   "metadata": {},
   "outputs": [
    {
     "name": "stdout",
     "output_type": "stream",
     "text": [
      "1451\n"
     ]
    }
   ],
   "source": [
    "with open(get_file_location(day=8)) as f:\n",
    "    data = [[x.split(' ')[0], int(x.split(' ')[1])] for x in f.read().split('\\n')]\n",
    "\n",
    "# part 1 - functions\n",
    "def test_program_for_corruptness(data):\n",
    "    corrupt_flag = False\n",
    "    iterator = 0\n",
    "    accumulator = 0\n",
    "    used_list = []\n",
    "    \n",
    "    while not corrupt_flag:\n",
    "        if iterator == len(data):\n",
    "            # reached the end of the game, so set end flag to True\n",
    "            break\n",
    "        move = data[iterator]\n",
    "        move_action, move_quantity = move[0], move[1]\n",
    "        if not iterator in used_list:\n",
    "            used_list.append(iterator)              \n",
    "            if move_action == 'jmp':\n",
    "                iterator += move_quantity\n",
    "            elif move_action == 'acc':\n",
    "                accumulator += move_quantity\n",
    "                iterator += 1\n",
    "            elif move_action == 'nop':\n",
    "                iterator += 1\n",
    "        else:\n",
    "            # game is corrupt, so set corrupt flag to True\n",
    "            corrupt_flag = True\n",
    "    return accumulator, corrupt_flag\n",
    "\n",
    "accumulator, _ = test_program_for_corruptness(data)\n",
    "print(accumulator)"
   ]
  },
  {
   "cell_type": "code",
   "execution_count": 45,
   "metadata": {},
   "outputs": [
    {
     "name": "stdout",
     "output_type": "stream",
     "text": [
      "1160\n"
     ]
    }
   ],
   "source": [
    "def fix_corrupt_lines(data):\n",
    "    corrupt_lines = []\n",
    "    for line in data:\n",
    "        if line[0] == 'nop':\n",
    "            line[0] = line[0].replace('nop','jmp')\n",
    "            accumulator, corrupt = test_program_for_corruptness(data)\n",
    "            if corrupt == False:\n",
    "                return accumulator, line\n",
    "            line[0] = line[0].replace('jmp','nop')\n",
    "        elif line[0] == 'jmp':\n",
    "            line[0] = line[0].replace('jmp','nop')\n",
    "            accumulator, corrupt = test_program_for_corruptness(data)\n",
    "            if corrupt == False:\n",
    "                return accumulator, line\n",
    "            line[0] = line[0].replace('nop','jmp')\n",
    "\n",
    "accumulator, _ =  fix_corrupt_lines(data)\n",
    "print(accumulator)"
   ]
  },
  {
   "cell_type": "code",
   "execution_count": 46,
   "metadata": {},
   "outputs": [],
   "source": [
    "with open(get_file_location(day=8)) as f:\n",
    "    data = [[x.split(' ')[0], int(x.split(' ')[1])] for x in f.read().split('\\n')]\n",
    "\n",
    "class GameChecker:\n",
    "    def __init__(self, data):\n",
    "        self.data = data\n",
    "        \n",
    "    def test_program_for_corruptness(self):\n",
    "        corrupt_flag = False\n",
    "        iterator = 0\n",
    "        accumulator = 0\n",
    "        used_list = []\n",
    "\n",
    "        while not corrupt_flag:\n",
    "            if iterator == len(self.data):\n",
    "                # reached the end of the game, so set end flag to True\n",
    "                break\n",
    "            move = data[iterator]\n",
    "            move_action, move_quantity = move[0], move[1]\n",
    "            if not iterator in used_list:\n",
    "                used_list.append(iterator)              \n",
    "                if move_action == 'jmp':\n",
    "                    iterator += move_quantity\n",
    "                elif move_action == 'acc':\n",
    "                    accumulator += move_quantity\n",
    "                    iterator += 1\n",
    "                elif move_action == 'nop':\n",
    "                    iterator += 1\n",
    "            else:\n",
    "                # game is corrupt, so set corrupt flag to True\n",
    "                corrupt_flag = True\n",
    "        return accumulator, corrupt_flag\n",
    "\n",
    "    def get_corrupt_lines(self):\n",
    "        corrupt_lines = []\n",
    "        for line in self.data:\n",
    "            if line[0] == 'nop':\n",
    "                line[0] = line[0].replace('nop','jmp')\n",
    "                accumulator, corrupt = test_program_for_corruptness(data)\n",
    "                if corrupt == False:\n",
    "                    return accumulator, line\n",
    "                line[0] = line[0].replace('jmp','nop')\n",
    "            elif line[0] == 'jmp':\n",
    "                line[0] = line[0].replace('jmp','nop')\n",
    "                accumulator, corrupt = test_program_for_corruptness(data)\n",
    "                if corrupt == False:\n",
    "                    return accumulator, line\n",
    "                line[0] = line[0].replace('nop','jmp')\n",
    "        return accumulator, corrupt"
   ]
  },
  {
   "cell_type": "code",
   "execution_count": 47,
   "metadata": {},
   "outputs": [
    {
     "name": "stdout",
     "output_type": "stream",
     "text": [
      "1451\n"
     ]
    }
   ],
   "source": [
    "# part 1\n",
    "game_checker = GameChecker(data)\n",
    "accumulator, _ = game_checker.test_program_for_corruptness()\n",
    "print(accumulator)"
   ]
  },
  {
   "cell_type": "code",
   "execution_count": 48,
   "metadata": {},
   "outputs": [
    {
     "name": "stdout",
     "output_type": "stream",
     "text": [
      "1160\n"
     ]
    }
   ],
   "source": [
    "# part 2\n",
    "accumulator, _ = game_checker.get_corrupt_lines()\n",
    "print(accumulator)"
   ]
  },
  {
   "cell_type": "code",
   "execution_count": null,
   "metadata": {},
   "outputs": [],
   "source": []
  }
 ],
 "metadata": {
  "kernelspec": {
   "display_name": "Python 3",
   "language": "python",
   "name": "python3"
  },
  "language_info": {
   "codemirror_mode": {
    "name": "ipython",
    "version": 3
   },
   "file_extension": ".py",
   "mimetype": "text/x-python",
   "name": "python",
   "nbconvert_exporter": "python",
   "pygments_lexer": "ipython3",
   "version": "3.8.0"
  }
 },
 "nbformat": 4,
 "nbformat_minor": 4
}
