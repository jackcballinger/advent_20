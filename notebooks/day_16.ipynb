{
 "cells": [
  {
   "cell_type": "code",
   "execution_count": 1,
   "metadata": {},
   "outputs": [],
   "source": [
    "from collections import defaultdict, Counter\n",
    "from itertools import chain, combinations, permutations\n",
    "import numpy as np\n",
    "\n",
    "from utils import get_file_location"
   ]
  },
  {
   "cell_type": "code",
   "execution_count": 2,
   "metadata": {},
   "outputs": [],
   "source": [
    "# data load\n",
    "with open(get_file_location(day=16)) as f:\n",
    "    data = f.read()"
   ]
  },
  {
   "cell_type": "code",
   "execution_count": 3,
   "metadata": {},
   "outputs": [],
   "source": [
    "# data prep\n",
    "def format_data(input_data):\n",
    "    valid_ranges_input = {x.split(':')[0]: (range(int(x.split(':')[1].split(' or ')[0].strip().split('-')[0]),\n",
    "                                            int(x.split(':')[1].split(' or ')[0].strip().split('-')[1])+1),\n",
    "                                           (range(int(x.split(':')[1].split(' or ')[1].strip().split('-')[0]),\n",
    "                                            int(x.split(':')[1].split(' or ')[1].strip().split('-')[1])+1))\n",
    "                                           ) for x in input_data.split('\\n\\n')[0].split('\\n')}\n",
    "    nearby_tickets_input = {i:[int(y) for y in x.split(',')] for i, x in enumerate(input_data.split('\\n\\n')[2].split('\\n')[1:])}\n",
    "    your_ticket_input = [int(x) for x in input_data.split('\\n\\n')[1].split('\\n')[1].split(',')]\n",
    "    return valid_ranges_input, nearby_tickets_input, your_ticket_input"
   ]
  },
  {
   "cell_type": "code",
   "execution_count": 4,
   "metadata": {},
   "outputs": [],
   "source": [
    "valid_ranges, nearby_tickets, your_ticket = format_data(data)"
   ]
  },
  {
   "cell_type": "code",
   "execution_count": 5,
   "metadata": {},
   "outputs": [
    {
     "name": "stdout",
     "output_type": "stream",
     "text": [
      "20058\n"
     ]
    }
   ],
   "source": [
    "# part 1\n",
    "invalid_items = [val for val in list(chain(*list(nearby_tickets.values()))) if all([True if val not in ticket_range else False for ticket_range in list(chain(*list(valid_ranges.values())))])]\n",
    "print(sum(invalid_items)) # 20058"
   ]
  },
  {
   "cell_type": "code",
   "execution_count": 6,
   "metadata": {},
   "outputs": [
    {
     "name": "stdout",
     "output_type": "stream",
     "text": [
      "366871907221\n"
     ]
    }
   ],
   "source": [
    "# part 2\n",
    "valid_tickets = {k:v for k, v in nearby_tickets.items() if not set(v).intersection(set(invalid_items))}\n",
    "valid_ticket_values = np.array(list(valid_tickets.values()))\n",
    "\n",
    "# find all the rows that fit the conditions for each property\n",
    "col_mapping_dict = defaultdict(str)\n",
    "for k, v in valid_ranges.items():\n",
    "    col_mapping_dict[k] = [i for i in range(len(valid_ticket_values[0])) if all(elem in list(chain(*v)) for elem in valid_ticket_values[:,i])]\n",
    "\n",
    "# find the number of occurances for each column\n",
    "occurances_dict = {k: v for k, v in sorted(Counter(list(chain(*list(col_mapping_dict.values())))).items(), key=lambda item: item[1])}\n",
    "\n",
    "seat_positions = {}\n",
    "for col, col_count in occurances_dict.items():\n",
    "    seat_positions.update({col:[k for k, v in col_mapping_dict.items() if col in v][0]})\n",
    "    col_mapping_dict = {k:v for k,v in col_mapping_dict.items() if col not in v}\n",
    "seat_positions = {k: v for k, v in sorted(seat_positions.items(), key=lambda item: item[0])}\n",
    "print(np.product([your_ticket[k] for k,v in seat_positions.items() if 'departure' in v])) # 366871907221"
   ]
  },
  {
   "cell_type": "code",
   "execution_count": null,
   "metadata": {},
   "outputs": [],
   "source": []
  }
 ],
 "metadata": {
  "kernelspec": {
   "display_name": "Python 3",
   "language": "python",
   "name": "python3"
  },
  "language_info": {
   "codemirror_mode": {
    "name": "ipython",
    "version": 3
   },
   "file_extension": ".py",
   "mimetype": "text/x-python",
   "name": "python",
   "nbconvert_exporter": "python",
   "pygments_lexer": "ipython3",
   "version": "3.8.0"
  }
 },
 "nbformat": 4,
 "nbformat_minor": 4
}
