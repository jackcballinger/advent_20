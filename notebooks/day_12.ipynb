{
 "cells": [
  {
   "cell_type": "code",
   "execution_count": 1,
   "metadata": {},
   "outputs": [],
   "source": [
    "from utils import get_file_location"
   ]
  },
  {
   "cell_type": "code",
   "execution_count": 2,
   "metadata": {},
   "outputs": [],
   "source": [
    "with open(get_file_location(day=12)) as f:\n",
    "    data = [(x[0],int(x[1:])) for x in f.read().split('\\n')]"
   ]
  },
  {
   "cell_type": "code",
   "execution_count": 3,
   "metadata": {},
   "outputs": [],
   "source": [
    "def transform_waypoint(quantity, waypoint, instruction):\n",
    "    if instruction == 'R':\n",
    "        multiplier = 1\n",
    "    elif instruction == 'L':\n",
    "        multiplier = -1\n",
    "    if quantity == 90:\n",
    "        return (multiplier * waypoint[1], multiplier * -waypoint[0])\n",
    "    if quantity == 180:\n",
    "        return (-waypoint[0], -waypoint[1])\n",
    "    if quantity == 270:\n",
    "        return (multiplier * -waypoint[1], multiplier * waypoint[0])\n",
    "    return waypoint"
   ]
  },
  {
   "cell_type": "code",
   "execution_count": 4,
   "metadata": {},
   "outputs": [
    {
     "name": "stdout",
     "output_type": "stream",
     "text": [
      "1441\n"
     ]
    }
   ],
   "source": [
    "# part 1\n",
    "move_dict = {\n",
    "    360: {'x':0, 'y':1},\n",
    "    90: {'x':1, 'y':0},\n",
    "    180: {'x':0, 'y':-1},\n",
    "    270: {'x':-1, 'y':0},\n",
    "    0: {'x':0, 'y':1}\n",
    "}\n",
    "\n",
    "direction_dict = {\n",
    "    'N': {'x':0, 'y':1},\n",
    "    'E': {'x':1, 'y':0},\n",
    "    'S': {'x':0, 'y':-1},\n",
    "    'W': {'x':-1, 'y':0}\n",
    "}\n",
    "\n",
    "turn_dict = {\n",
    "    'L': -1,\n",
    "    'R': +1\n",
    "}\n",
    "\n",
    "old_coords, new_coords = (0,0), (0,0)\n",
    "old_direction, new_direction = 90, 90\n",
    "for row in data:\n",
    "    instruction = row[0]\n",
    "    quantity = row[1]\n",
    "    if instruction == 'F':\n",
    "        x_new = old_coords[0] + move_dict[old_direction]['x'] * quantity\n",
    "        y_new = old_coords[1] + move_dict[old_direction]['y'] * quantity\n",
    "        new_coords = (x_new,y_new)\n",
    "    elif instruction in ['N','E','S','W']:\n",
    "        x_new = old_coords[0] + direction_dict[instruction]['x'] * quantity\n",
    "        y_new = old_coords[1] + direction_dict[instruction]['y'] * quantity\n",
    "        new_coords = (x_new,y_new)\n",
    "    elif instruction in ['R','L']:\n",
    "        new_direction = old_direction + turn_dict[instruction] * quantity\n",
    "        if new_direction > 360:\n",
    "            new_direction -= 360\n",
    "        elif new_direction < 0:\n",
    "            new_direction += 360\n",
    "    old_coords = new_coords\n",
    "    old_direction = new_direction\n",
    "\n",
    "print(abs(old_coords[0])+abs(old_coords[1])) # 1441"
   ]
  },
  {
   "cell_type": "code",
   "execution_count": 5,
   "metadata": {},
   "outputs": [
    {
     "name": "stdout",
     "output_type": "stream",
     "text": [
      "61616\n"
     ]
    }
   ],
   "source": [
    "# part 2\n",
    "old_coords, new_coords = (0,0), (0,0)\n",
    "old_waypoint, new_waypoint = (10,1), (10,1)\n",
    "for row in data:\n",
    "    instruction = row[0]\n",
    "    quantity = row[1]\n",
    "    if instruction == 'F':\n",
    "        x_new = old_coords[0] + (quantity * old_waypoint[0])\n",
    "        y_new = old_coords[1] + (quantity * old_waypoint[1])\n",
    "        new_coords = (x_new,y_new)\n",
    "    elif instruction in ['N','E','S','W']:\n",
    "        new_waypoint_x = old_waypoint[0] + direction_dict[instruction]['x'] * quantity\n",
    "        new_waypoint_y = old_waypoint[1] + direction_dict[instruction]['y'] * quantity\n",
    "        new_waypoint = (new_waypoint_x, new_waypoint_y)\n",
    "    elif instruction in ['R','L']:\n",
    "        new_waypoint = transform_waypoint(quantity, old_waypoint, instruction)\n",
    "\n",
    "    old_coords = new_coords\n",
    "    old_waypoint = new_waypoint\n",
    "print(abs(old_coords[0])+abs(old_coords[1])) # 61616"
   ]
  }
 ],
 "metadata": {
  "kernelspec": {
   "display_name": "Python 3",
   "language": "python",
   "name": "python3"
  },
  "language_info": {
   "codemirror_mode": {
    "name": "ipython",
    "version": 3
   },
   "file_extension": ".py",
   "mimetype": "text/x-python",
   "name": "python",
   "nbconvert_exporter": "python",
   "pygments_lexer": "ipython3",
   "version": "3.8.0"
  }
 },
 "nbformat": 4,
 "nbformat_minor": 4
}
