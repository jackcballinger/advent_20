{
 "cells": [
  {
   "cell_type": "code",
   "execution_count": 2,
   "metadata": {},
   "outputs": [],
   "source": [
    "import re\n",
    "\n",
    "from utils import get_file_location"
   ]
  },
  {
   "cell_type": "code",
   "execution_count": 3,
   "metadata": {},
   "outputs": [],
   "source": [
    "with open(get_file_location(day=7)) as f:\n",
    "    data = f.read().split('\\n')"
   ]
  },
  {
   "cell_type": "code",
   "execution_count": 4,
   "metadata": {},
   "outputs": [],
   "source": [
    "# format_data into dict\n",
    "data_dict = {\n",
    "    y.split('bags')[0].strip().replace(' ','_'): [(x.strip().replace('.','').split(' ')[0], '_'.join(x.strip().replace('.','').split(' ')[1:-1])) for x in y.split('contain')[1].strip().split(',')]\n",
    "    for y in data\n",
    "}"
   ]
  },
  {
   "cell_type": "code",
   "execution_count": 5,
   "metadata": {},
   "outputs": [
    {
     "name": "stdout",
     "output_type": "stream",
     "text": [
      "259\n"
     ]
    }
   ],
   "source": [
    "# part 1\n",
    "def get_all_sub_bags(bag):\n",
    "    sub_bags = new_sub_bags = data_dict[bag].copy()\n",
    "    for sub_bag in sub_bags:\n",
    "        if sub_bag[1] != 'other':\n",
    "            new_sub_bags += data_dict[sub_bag[1]]\n",
    "        else:\n",
    "            pass\n",
    "    return set(new_sub_bags)\n",
    "print(sum([True if 'shiny_gold' in [x[1] for x in set(get_all_sub_bags(bag))] else False for bag in data_dict])) # 259"
   ]
  },
  {
   "cell_type": "code",
   "execution_count": 7,
   "metadata": {},
   "outputs": [
    {
     "name": "stdout",
     "output_type": "stream",
     "text": [
      "45018\n"
     ]
    }
   ],
   "source": [
    "# part 2\n",
    "# define recursive function to iterate through path\n",
    "def get_num_bags_contained_in_bag(bag, bag_multiplier=1):\n",
    "    if isinstance(bag, str):\n",
    "        bag = (bag_multiplier, bag)\n",
    "    n_bags = []\n",
    "    n_bags.append(int(bag_multiplier))\n",
    "    for sub_bag in data_dict[bag[1]]:\n",
    "        if sub_bag[1] in end_points:\n",
    "            n_bags.append(int(sub_bag[0]) * int(bag_multiplier))\n",
    "        else:\n",
    "            n_bags.extend(get_num_bags_contained_in_bag(sub_bag, int(sub_bag[0]) * int(bag_multiplier)))\n",
    "    return n_bags\n",
    "\n",
    "# define bags that contain no further bags, or 'end_points'\n",
    "end_points = [k for k,v in data_dict.items() if len(v)==1 and v[0][0] == 'no']\n",
    "\n",
    "print(sum(get_num_bags_contained_in_bag('shiny_gold'))-1) # 45018"
   ]
  }
 ],
 "metadata": {
  "kernelspec": {
   "display_name": "Python 3",
   "language": "python",
   "name": "python3"
  },
  "language_info": {
   "codemirror_mode": {
    "name": "ipython",
    "version": 3
   },
   "file_extension": ".py",
   "mimetype": "text/x-python",
   "name": "python",
   "nbconvert_exporter": "python",
   "pygments_lexer": "ipython3",
   "version": "3.8.0"
  }
 },
 "nbformat": 4,
 "nbformat_minor": 4
}
