{
 "cells": [
  {
   "cell_type": "code",
   "execution_count": 1,
   "metadata": {},
   "outputs": [],
   "source": [
    "from collections import Counter\n",
    "from itertools import chain\n",
    "import re\n",
    "\n",
    "from utils import get_file_location"
   ]
  },
  {
   "cell_type": "code",
   "execution_count": 2,
   "metadata": {},
   "outputs": [],
   "source": [
    "with open(get_file_location(day=21)) as f:\n",
    "    data = f.read().splitlines()"
   ]
  },
  {
   "cell_type": "code",
   "execution_count": 3,
   "metadata": {},
   "outputs": [],
   "source": [
    "def get_safe_ingredients(input_data):\n",
    "    allergen_ingredient_mapping, ingredient_list = {}, []\n",
    "    for line in input_data:\n",
    "        m = re.match(\"^([\\w\\s]+) \\(contains ([\\w\\s,]+)\\)$\", line).groups()\n",
    "        ingredients = m[0].split(\" \")\n",
    "        allergens = m[1].split(\", \")\n",
    "        for allergen in allergens:\n",
    "            if allergen not in allergen_ingredient_mapping:\n",
    "                allergen_ingredient_mapping[allergen] = set(ingredients)\n",
    "            else:\n",
    "                allergen_ingredient_mapping[allergen] &= set(ingredients)\n",
    "        ingredient_list.extend(ingredients)\n",
    "    safe_ingredients = set(ingredient_list) - set(chain(*allergen_ingredient_mapping.values()))\n",
    "    return ingredient_list, safe_ingredients, allergen_ingredient_mapping\n",
    "\n",
    "def get_allergen_food_mapping(input_allergen_ingredient_mapping):\n",
    "    allergen_count_dict = Counter(list(chain.from_iterable(input_allergen_ingredient_mapping.values())))\n",
    "    allergen_ingredient_mapping_updated = input_allergen_ingredient_mapping\n",
    "    food_allergen_mapping = {}\n",
    "    while True:\n",
    "        current_allergen = [k for k,v in allergen_count_dict.items() if v == 1][0]\n",
    "        food_allergen_mapping.update({current_allergen: [k for k, v in allergen_ingredient_mapping_updated.items() if current_allergen in v][0]})\n",
    "        allergen_ingredient_mapping_updated = {k:v for k, v in input_allergen_ingredient_mapping.items() if k not in food_allergen_mapping.values()}\n",
    "        if not allergen_ingredient_mapping_updated:\n",
    "            return food_allergen_mapping\n",
    "        allergen_count_dict = Counter(list(chain.from_iterable(allergen_ingredient_mapping_updated.values())))\n",
    "\n",
    "ingredient_list, safe_ingredients, allergen_ingredient_mapping = get_safe_ingredients(data)"
   ]
  },
  {
   "cell_type": "code",
   "execution_count": 4,
   "metadata": {},
   "outputs": [
    {
     "name": "stdout",
     "output_type": "stream",
     "text": [
      "2485\n"
     ]
    }
   ],
   "source": [
    "# part 1\n",
    "print(sum([ingredient_list.count(safe_ingredient) for safe_ingredient in safe_ingredients])) # 2485"
   ]
  },
  {
   "cell_type": "code",
   "execution_count": 5,
   "metadata": {},
   "outputs": [
    {
     "name": "stdout",
     "output_type": "stream",
     "text": [
      "bqkndvb,zmb,bmrmhm,snhrpv,vflms,bqtvr,qzkjrtl,rkkrx\n"
     ]
    }
   ],
   "source": [
    "# part 2\n",
    "print(','.join([x[0] for x in sorted(get_allergen_food_mapping(allergen_ingredient_mapping).items(), key=lambda item: item[1])])) # bqkndvb,zmb,bmrmhm,snhrpv,vflms,bqtvr,qzkjrtl,rkkrx"
   ]
  }
 ],
 "metadata": {
  "kernelspec": {
   "display_name": "Python 3",
   "language": "python",
   "name": "python3"
  },
  "language_info": {
   "codemirror_mode": {
    "name": "ipython",
    "version": 3
   },
   "file_extension": ".py",
   "mimetype": "text/x-python",
   "name": "python",
   "nbconvert_exporter": "python",
   "pygments_lexer": "ipython3",
   "version": "3.8.0"
  }
 },
 "nbformat": 4,
 "nbformat_minor": 4
}
