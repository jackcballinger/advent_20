{
 "cells": [
  {
   "cell_type": "code",
   "execution_count": 1,
   "metadata": {},
   "outputs": [],
   "source": [
    "from itertools import chain\n",
    "import re\n",
    "\n",
    "from utils import get_file_location"
   ]
  },
  {
   "cell_type": "code",
   "execution_count": 2,
   "metadata": {},
   "outputs": [],
   "source": [
    "with open(get_file_location(day=21)) as f:\n",
    "    data = f.read().splitlines()"
   ]
  },
  {
   "cell_type": "code",
   "execution_count": 3,
   "metadata": {},
   "outputs": [
    {
     "name": "stdout",
     "output_type": "stream",
     "text": [
      "2485\n"
     ]
    }
   ],
   "source": [
    "# part 1\n",
    "def get_allergen_ingredient_mappings(input_data):\n",
    "    allergen_ingredient_mapping, ingredient_list = {}, []\n",
    "    for line in input_data:\n",
    "        m = re.match(\"^([\\w\\s]+) \\(contains ([\\w\\s,]+)\\)$\", line).groups()\n",
    "        ingredients = m[0].split(\" \")\n",
    "        allergens = m[1].split(\", \")\n",
    "        for allergen in allergens:\n",
    "            if allergen not in allergen_ingredient_mapping:\n",
    "                allergen_ingredient_mapping[allergen] = set(ingredients)\n",
    "            else:\n",
    "                allergen_ingredient_mapping[allergen] &= set(ingredients)\n",
    "        ingredient_list.extend(ingredients)\n",
    "    safe_ingredients = set(ingredient_list) - set(chain(*allergen_ingredient_mapping.values()))\n",
    "    return ingredient_list, safe_ingredients\n",
    "    \n",
    "ingredient_list, safe_ingredients = get_allergen_ingredient_mappings(data)\n",
    "print(sum([ingredient_list.count(safe_ingredient) for safe_ingredient in safe_ingredients]))"
   ]
  }
 ],
 "metadata": {
  "kernelspec": {
   "display_name": "Python 3",
   "language": "python",
   "name": "python3"
  },
  "language_info": {
   "codemirror_mode": {
    "name": "ipython",
    "version": 3
   },
   "file_extension": ".py",
   "mimetype": "text/x-python",
   "name": "python",
   "nbconvert_exporter": "python",
   "pygments_lexer": "ipython3",
   "version": "3.8.0"
  }
 },
 "nbformat": 4,
 "nbformat_minor": 4
}
