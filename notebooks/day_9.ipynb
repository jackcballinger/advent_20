{
 "cells": [
  {
   "cell_type": "code",
   "execution_count": 14,
   "metadata": {},
   "outputs": [],
   "source": [
    "import itertools\n",
    "\n",
    "from utils import get_file_location"
   ]
  },
  {
   "cell_type": "code",
   "execution_count": 6,
   "metadata": {},
   "outputs": [],
   "source": [
    "with open(get_file_location(day=9)) as f:\n",
    "    data = [int(x) for x in f.read().split('\\n')]"
   ]
  },
  {
   "cell_type": "code",
   "execution_count": 24,
   "metadata": {},
   "outputs": [
    {
     "name": "stdout",
     "output_type": "stream",
     "text": [
      "26134589\n"
     ]
    }
   ],
   "source": [
    "# part 1\n",
    "preamble = 25\n",
    "for i, row in enumerate(data):\n",
    "    if i >= preamble:\n",
    "        prev_combinations = itertools.combinations(data[i-preamble:i],2)\n",
    "        if not [x for x in list(prev_combinations) if sum(x) == row]:\n",
    "            print(row)"
   ]
  },
  {
   "cell_type": "code",
   "execution_count": 86,
   "metadata": {},
   "outputs": [],
   "source": [
    "# part 2\n",
    "n = 26134589\n",
    "max_combinations = 20\n",
    "correct_combinations = []\n",
    "for i, row in enumerate(data[:data.index(n)]):\n",
    "    for n_combinations in range(1, max_combinations+1):\n",
    "        combinations = itertools.combinations(data[i:i+n_combinations], n_combinations)\n",
    "        for x in combinations:\n",
    "            if sum(x) == n:\n",
    "                correct_combinations.append(x)"
   ]
  },
  {
   "cell_type": "code",
   "execution_count": 87,
   "metadata": {},
   "outputs": [
    {
     "name": "stdout",
     "output_type": "stream",
     "text": [
      "3535124\n"
     ]
    }
   ],
   "source": [
    "print(max(correct_combinations[0]) + min(correct_combinations[0]))"
   ]
  }
 ],
 "metadata": {
  "kernelspec": {
   "display_name": "Python 3",
   "language": "python",
   "name": "python3"
  },
  "language_info": {
   "codemirror_mode": {
    "name": "ipython",
    "version": 3
   },
   "file_extension": ".py",
   "mimetype": "text/x-python",
   "name": "python",
   "nbconvert_exporter": "python",
   "pygments_lexer": "ipython3",
   "version": "3.8.0"
  }
 },
 "nbformat": 4,
 "nbformat_minor": 4
}
