{
 "cells": [
  {
   "cell_type": "code",
   "execution_count": 4,
   "metadata": {},
   "outputs": [],
   "source": [
    "import itertools\n",
    "\n",
    "from utils import get_file_location"
   ]
  },
  {
   "cell_type": "code",
   "execution_count": 5,
   "metadata": {},
   "outputs": [],
   "source": [
    "# data load\n",
    "with open(get_file_location(day=9)) as f:\n",
    "    data = [int(x) for x in f.read().split('\\n')]"
   ]
  },
  {
   "cell_type": "code",
   "execution_count": 38,
   "metadata": {},
   "outputs": [],
   "source": [
    "class EncodingFixer:\n",
    "    def __init__(self, input_data, preamble):\n",
    "        self.input_data = input_data\n",
    "        self.preamble = preamble\n",
    "        \n",
    "    def find_broken_row(self):\n",
    "        for i, row in enumerate(self.input_data[self.preamble:]):\n",
    "            if not [x for x in list(itertools.combinations(self.input_data[i:i+self.preamble],2)) if sum(x) == row]:\n",
    "                return row\n",
    "    \n",
    "    def find_contiguous_set(self):\n",
    "        broken_row = self.find_broken_row()\n",
    "        for i in range(len(self.input_data)):\n",
    "            sums = [sum(self.input_data[i:x]) for x in range(len(self.input_data)-i)]\n",
    "            if broken_row in sums:\n",
    "                position = sums.index(broken_row)\n",
    "                return self.input_data[i:position]\n",
    "            \n",
    "    def find_encryption_weakness(self):\n",
    "        contiguous_set = self.find_contiguous_set()\n",
    "        return min(contiguous_set) + max(contiguous_set)"
   ]
  },
  {
   "cell_type": "code",
   "execution_count": 39,
   "metadata": {},
   "outputs": [],
   "source": [
    "encoding_fixer = EncodingFixer(data, preamble=25)"
   ]
  },
  {
   "cell_type": "code",
   "execution_count": 40,
   "metadata": {},
   "outputs": [
    {
     "name": "stdout",
     "output_type": "stream",
     "text": [
      "26134589\n"
     ]
    }
   ],
   "source": [
    "# part 1\n",
    "broken_row = encoding_fixer.find_broken_row()\n",
    "print(broken_row)"
   ]
  },
  {
   "cell_type": "code",
   "execution_count": 42,
   "metadata": {},
   "outputs": [
    {
     "name": "stdout",
     "output_type": "stream",
     "text": [
      "3535124\n"
     ]
    }
   ],
   "source": [
    "# part 2\n",
    "encryption_weakness = encoding_fixer.find_encryption_weakness()\n",
    "print(encryption_weakness)"
   ]
  }
 ],
 "metadata": {
  "kernelspec": {
   "display_name": "Python 3",
   "language": "python",
   "name": "python3"
  },
  "language_info": {
   "codemirror_mode": {
    "name": "ipython",
    "version": 3
   },
   "file_extension": ".py",
   "mimetype": "text/x-python",
   "name": "python",
   "nbconvert_exporter": "python",
   "pygments_lexer": "ipython3",
   "version": "3.8.0"
  }
 },
 "nbformat": 4,
 "nbformat_minor": 4
}
