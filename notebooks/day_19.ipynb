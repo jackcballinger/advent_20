{
 "cells": [
  {
   "cell_type": "code",
   "execution_count": 1,
   "metadata": {},
   "outputs": [],
   "source": [
    "from itertools import chain, product\n",
    "import re\n",
    "\n",
    "from utils import get_file_location"
   ]
  },
  {
   "cell_type": "code",
   "execution_count": 2,
   "metadata": {},
   "outputs": [],
   "source": [
    "with open(get_file_location(day=19)) as f:\n",
    "    data = f.read()"
   ]
  },
  {
   "cell_type": "code",
   "execution_count": 3,
   "metadata": {},
   "outputs": [],
   "source": [
    "def format_data(input_data):\n",
    "    rules = {int(x.split(':')[0]):x.split(':')[1].strip().replace('\"','') for x in input_data.split('\\n\\n')[0].splitlines()}\n",
    "    rules = {k: [[y if y == 'a' or y == 'b' else int(y) for y in x.strip().split(' ')] for x in v.split('|')] for k, v in rules.items()}\n",
    "    messages = input_data.split('\\n\\n')[1].splitlines()\n",
    "    return rules, messages"
   ]
  },
  {
   "cell_type": "code",
   "execution_count": 4,
   "metadata": {},
   "outputs": [],
   "source": [
    "rules, messages = format_data(data)\n",
    "alpha_dict = updated_replacement_dict = {k:v for k, v in rules.items() if 'a' in list(chain(*v)) or 'b' in list(chain(*v))}\n",
    "new_rules = rules.copy()"
   ]
  },
  {
   "cell_type": "code",
   "execution_count": 5,
   "metadata": {},
   "outputs": [
    {
     "name": "stdout",
     "output_type": "stream",
     "text": [
      "250\n"
     ]
    }
   ],
   "source": [
    "# part 1\n",
    "while True:\n",
    "    replacement_dict = {key: [\n",
    "        [int(y) for y in x]\n",
    "        for x in value]\n",
    "        for key, value in {k:v for k, v in new_rules.items() if set(list(chain(*v))).intersection(set(list(alpha_dict.keys()))) == set(list(chain(*v)))\n",
    "        }.items()}\n",
    "    updated_replacement_dict = {k: list(chain(*[[''.join(list(chain(*list(x)))) for x in list(\n",
    "        product(*[alpha_dict[combination[i]] for i in range(len(combination))])\n",
    "    )] for combination in v])) for k, v in replacement_dict.items()}\n",
    "    alpha_dict.update(updated_replacement_dict)\n",
    "    new_rules = {k: v for k, v in new_rules.items() if k not in alpha_dict}\n",
    "    if not new_rules:\n",
    "        break\n",
    "print(len([message for message in messages if message in alpha_dict[0]])) # 250"
   ]
  }
 ],
 "metadata": {
  "kernelspec": {
   "display_name": "Python 3",
   "language": "python",
   "name": "python3"
  },
  "language_info": {
   "codemirror_mode": {
    "name": "ipython",
    "version": 3
   },
   "file_extension": ".py",
   "mimetype": "text/x-python",
   "name": "python",
   "nbconvert_exporter": "python",
   "pygments_lexer": "ipython3",
   "version": "3.8.0"
  }
 },
 "nbformat": 4,
 "nbformat_minor": 4
}
