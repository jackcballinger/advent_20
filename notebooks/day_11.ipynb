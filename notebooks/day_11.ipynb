{
 "cells": [
  {
   "cell_type": "code",
   "execution_count": 1,
   "metadata": {},
   "outputs": [],
   "source": [
    "import numpy as np\n",
    "\n",
    "from utils import get_file_location"
   ]
  },
  {
   "cell_type": "code",
   "execution_count": 2,
   "metadata": {},
   "outputs": [],
   "source": [
    "with open(get_file_location(day=11)) as f:\n",
    "    data = np.array([[seat for seat in row] for row in f.read().split('\\n')])"
   ]
  },
  {
   "cell_type": "code",
   "execution_count": 3,
   "metadata": {},
   "outputs": [],
   "source": [
    "moves_dict = {\n",
    "    'up':{'x':0, 'y':-1},\n",
    "    'up_right':{'x':1, 'y':-1},\n",
    "    'right':{'x':1,'y':0},\n",
    "    'down_right':{'x':1,'y':1},\n",
    "    'down':{'x':0, 'y':1},\n",
    "    'down_left':{'x':-1,'y':1},\n",
    "    'left':{'x':-1,'y':0},\n",
    "    'up_left':{'x':-1,'y':-1}\n",
    "}"
   ]
  },
  {
   "cell_type": "code",
   "execution_count": 8,
   "metadata": {},
   "outputs": [],
   "source": [
    "def get_neighbour_seat(x_coord, y_coord, direction, input_data, iterate_search=False):\n",
    "    y = y_coord + moves_dict[direction]['y']\n",
    "    x = x_coord + moves_dict[direction]['x']\n",
    "    while 0 <= y <= len(input_data)-1 and 0 <= x <= len(input_data[0])-1:\n",
    "        if input_data[y][x] != '.':\n",
    "            return input_data[y][x]\n",
    "        if iterate_search:\n",
    "            y+=moves_dict[direction]['y']\n",
    "            x+=moves_dict[direction]['x']\n",
    "        else:\n",
    "            return None\n",
    "\n",
    "def get_neighbour_seats(x_coord, y_coord, input_data, iterate_search=False):\n",
    "    return [val for val in [get_neighbour_seat(x_coord,y_coord,k,input_data, iterate_search) for k in moves_dict.keys()] if val is not None]\n",
    "\n",
    "def get_equilibrium_seating_plan(iterate_search, occupied_limit, input_data):\n",
    "    prev_array = input_data.copy()\n",
    "    new_array = input_data.copy()\n",
    "    while True:\n",
    "        for y, row in enumerate(prev_array):\n",
    "            for x, seat in enumerate(row):\n",
    "                neighbour_seats = get_neighbour_seats(x,y,prev_array,iterate_search=iterate_search)\n",
    "                if prev_array[y][x] == 'L' and len(set(neighbour_seats)) == 1 and neighbour_seats[0] == 'L':\n",
    "                    new_array[y][x] = '#'\n",
    "                elif prev_array[y][x] == '#' and len([x for x in neighbour_seats if x == '#']) >= occupied_limit:\n",
    "                    new_array[y][x] = 'L'\n",
    "        if (prev_array == new_array).all():\n",
    "            break\n",
    "        prev_array = new_array.copy()\n",
    "    return np.count_nonzero(prev_array == '#')\n"
   ]
  },
  {
   "cell_type": "code",
   "execution_count": 9,
   "metadata": {},
   "outputs": [
    {
     "name": "stdout",
     "output_type": "stream",
     "text": [
      "2481\n"
     ]
    }
   ],
   "source": [
    "# part 1\n",
    "print(get_equilibrium_seating_plan(iterate_search=False, occupied_limit=4, input_data=data)) # 2481"
   ]
  },
  {
   "cell_type": "code",
   "execution_count": 10,
   "metadata": {},
   "outputs": [
    {
     "name": "stdout",
     "output_type": "stream",
     "text": [
      "2227\n"
     ]
    }
   ],
   "source": [
    "# part 2\n",
    "print(get_equilibrium_seating_plan(iterate_search=True, occupied_limit=5, input_data=data)) # 2227"
   ]
  }
 ],
 "metadata": {
  "kernelspec": {
   "display_name": "Python 3",
   "language": "python",
   "name": "python3"
  },
  "language_info": {
   "codemirror_mode": {
    "name": "ipython",
    "version": 3
   },
   "file_extension": ".py",
   "mimetype": "text/x-python",
   "name": "python",
   "nbconvert_exporter": "python",
   "pygments_lexer": "ipython3",
   "version": "3.8.0"
  }
 },
 "nbformat": 4,
 "nbformat_minor": 4
}
