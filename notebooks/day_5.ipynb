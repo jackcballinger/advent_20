{
 "cells": [
  {
   "cell_type": "code",
   "execution_count": 2,
   "metadata": {},
   "outputs": [],
   "source": [
    "import numpy as np\n",
    "\n",
    "from utils import get_file_location"
   ]
  },
  {
   "cell_type": "code",
   "execution_count": 3,
   "metadata": {},
   "outputs": [],
   "source": [
    "with open(get_file_location(day=5)) as f:\n",
    "    data = f.read().split('\\n')"
   ]
  },
  {
   "cell_type": "code",
   "execution_count": 4,
   "metadata": {},
   "outputs": [],
   "source": [
    "class SeatFinder:\n",
    "    def __init__(self, row):\n",
    "        self.row = row\n",
    "        self.lower_row_bound, self.lower_seat_bound = 0, 0\n",
    "        self.upper_row_bound = 127\n",
    "        self.upper_seat_bound = 7\n",
    "    \n",
    "    def _midpoint(self, lower_bound, upper_bound):\n",
    "        return lower_bound + ((upper_bound - lower_bound)/2)\n",
    "    \n",
    "    def _find_row(self):\n",
    "        while True:\n",
    "            for cmd in self.row:\n",
    "                if cmd == 'F':\n",
    "                    self.upper_row_bound = np.floor(self._midpoint(self.lower_row_bound, self.upper_row_bound))\n",
    "                elif cmd == 'B':\n",
    "                    self.lower_row_bound = np.ceil(self._midpoint(self.lower_row_bound, self.upper_row_bound))\n",
    "            if self.lower_row_bound == self.upper_row_bound:\n",
    "                break\n",
    "        assert self.lower_row_bound == self.upper_row_bound\n",
    "        return self.lower_row_bound\n",
    "    \n",
    "    def _find_seat(self):\n",
    "        while True:\n",
    "            for cmd in self.row[-3:]:\n",
    "                if cmd == 'L':\n",
    "                    self.upper_seat_bound = np.floor(self._midpoint(self.lower_seat_bound, self.upper_seat_bound))\n",
    "                elif cmd == 'R':\n",
    "                    self.lower_seat_bound = np.ceil(self._midpoint(self.lower_seat_bound, self.upper_seat_bound))\n",
    "            if self.lower_seat_bound == self.upper_seat_bound:\n",
    "                break\n",
    "        assert self.lower_seat_bound == self.upper_seat_bound\n",
    "        return self.lower_seat_bound\n",
    "    \n",
    "    def find_seat_id(self):\n",
    "        row_number = self._find_row()\n",
    "        seat_number = self._find_seat()\n",
    "        return (row_number * 8) + seat_number"
   ]
  },
  {
   "cell_type": "code",
   "execution_count": 25,
   "metadata": {},
   "outputs": [
    {
     "name": "stdout",
     "output_type": "stream",
     "text": [
      "818.0\n"
     ]
    }
   ],
   "source": [
    "# part 1\n",
    "seat_ids = [SeatFinder(row).find_seat_id() for row in data]\n",
    "print(max(seat_ids))"
   ]
  },
  {
   "cell_type": "code",
   "execution_count": 26,
   "metadata": {},
   "outputs": [
    {
     "name": "stdout",
     "output_type": "stream",
     "text": [
      "{559}\n"
     ]
    }
   ],
   "source": [
    "# part 2\n",
    "print(set(range(int(min(seat_ids)),int(max(seat_ids)))) - set(seat_ids))"
   ]
  },
  {
   "cell_type": "code",
   "execution_count": null,
   "metadata": {},
   "outputs": [],
   "source": []
  }
 ],
 "metadata": {
  "kernelspec": {
   "display_name": "Python 3",
   "language": "python",
   "name": "python3"
  },
  "language_info": {
   "codemirror_mode": {
    "name": "ipython",
    "version": 3
   },
   "file_extension": ".py",
   "mimetype": "text/x-python",
   "name": "python",
   "nbconvert_exporter": "python",
   "pygments_lexer": "ipython3",
   "version": "3.8.0"
  }
 },
 "nbformat": 4,
 "nbformat_minor": 4
}
