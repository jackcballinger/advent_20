{
 "cells": [
  {
   "cell_type": "code",
   "execution_count": 1,
   "metadata": {},
   "outputs": [],
   "source": [
    "from collections import defaultdict\n",
    "import numpy as np\n",
    "\n",
    "from utils import get_file_location"
   ]
  },
  {
   "cell_type": "code",
   "execution_count": 2,
   "metadata": {},
   "outputs": [],
   "source": [
    "# data load\n",
    "with open(get_file_location(day=15)) as f:\n",
    "    data = [int(x) for x in f.read().split(',')]"
   ]
  },
  {
   "cell_type": "code",
   "execution_count": 3,
   "metadata": {},
   "outputs": [
    {
     "name": "stdout",
     "output_type": "stream",
     "text": [
      "1025\n"
     ]
    }
   ],
   "source": [
    "# part 1\n",
    "spoken_numbers_array = data.copy()\n",
    "while len(spoken_numbers_array) < 2020 + 1:\n",
    "    current_number = spoken_numbers_array[-1]\n",
    "    if current_number not in spoken_numbers_array[:-1]:\n",
    "        spoken_numbers_array = np.append(spoken_numbers_array, 0)\n",
    "    else:\n",
    "        difference = len(spoken_numbers_array) - np.where(spoken_numbers_array == current_number)[0][-2]-1\n",
    "        spoken_numbers_array = np.append(spoken_numbers_array, difference)\n",
    "print(current_number) # 1025"
   ]
  },
  {
   "cell_type": "code",
   "execution_count": 4,
   "metadata": {},
   "outputs": [
    {
     "name": "stdout",
     "output_type": "stream",
     "text": [
      "129262\n"
     ]
    }
   ],
   "source": [
    "# part 2\n",
    "spoken_numbers_array = data.copy()\n",
    "index_dict = {n:i for i,n in enumerate(spoken_numbers_array[:-1])}\n",
    "last_seen_dict = defaultdict(lambda: turn, index_dict)\n",
    "current_number = spoken_numbers_array[-1]\n",
    "for turn in range(len(spoken_numbers_array) - 1, 30000000 - 1):\n",
    "    last_seen_dict[current_number], current_number = turn, turn - last_seen_dict[current_number]\n",
    "print(current_number) # 129262"
   ]
  },
  {
   "cell_type": "code",
   "execution_count": 5,
   "metadata": {},
   "outputs": [],
   "source": [
    "# part 1 method takes way too long for part 2, so had to use a different method - try iterating over turn numbers\n",
    "# and keeping track of the last time a specific number turned up"
   ]
  }
 ],
 "metadata": {
  "kernelspec": {
   "display_name": "Python 3",
   "language": "python",
   "name": "python3"
  },
  "language_info": {
   "codemirror_mode": {
    "name": "ipython",
    "version": 3
   },
   "file_extension": ".py",
   "mimetype": "text/x-python",
   "name": "python",
   "nbconvert_exporter": "python",
   "pygments_lexer": "ipython3",
   "version": "3.8.0"
  }
 },
 "nbformat": 4,
 "nbformat_minor": 4
}
