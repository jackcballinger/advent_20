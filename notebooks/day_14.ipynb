{
 "cells": [
  {
   "cell_type": "code",
   "execution_count": 1,
   "metadata": {},
   "outputs": [],
   "source": [
    "from collections import Counter\n",
    "import re\n",
    "import itertools\n",
    "\n",
    "from utils import get_file_location"
   ]
  },
  {
   "cell_type": "code",
   "execution_count": 2,
   "metadata": {},
   "outputs": [],
   "source": [
    "# data load\n",
    "with open(get_file_location(day=14)) as f:\n",
    "    data = f.read()"
   ]
  },
  {
   "cell_type": "code",
   "execution_count": 3,
   "metadata": {},
   "outputs": [],
   "source": [
    "def format_data(input_data):\n",
    "    input_data_formatted = ['mask' + x for x in input_data.split('mask')[1:]]\n",
    "    input_data_formatted = [[y for y in x.split('\\n') if y != ''] for x in input_data_formatted]\n",
    "    input_data_formatted = [[(y.split('=')[0].strip(), y.split('=')[1].strip()) for y in x] for x in input_data_formatted]\n",
    "    return input_data_formatted"
   ]
  },
  {
   "cell_type": "code",
   "execution_count": 8,
   "metadata": {},
   "outputs": [],
   "source": [
    "def apply_bitmask_v1(input_data):\n",
    "    formatted_input_data = format_data(input_data)\n",
    "    program_values = {}\n",
    "    for program in formatted_input_data:\n",
    "        program_mask = program[0][1]\n",
    "        program_instructions = [(x[0], int(x[1])) for x in program[1:]]\n",
    "        new_program = {}\n",
    "        for line in program_instructions:\n",
    "            new_line = ''\n",
    "            for digit, mask_digit in zip(bin(line[1])[2:].zfill(36), program_mask):\n",
    "                if mask_digit == 'X':\n",
    "                    new_line += digit\n",
    "                else:\n",
    "                    new_line += mask_digit\n",
    "            new_program.update({line[0]:new_line})\n",
    "        program_values.update(new_program)\n",
    "    return sum([int(v,2) for v in program_values.values()])\n",
    "\n",
    "def apply_bitmask_v2(input_data):\n",
    "    program_values = []\n",
    "    for program in input_data:\n",
    "        program_mask = program[0][1]\n",
    "        program_instructions = [(int(re.search(re.compile(r'\\[([0-9]+)\\]'), x[0]).group(1)),\n",
    "                                 int(x[1])) for x in program[1:]]\n",
    "        new_program = []\n",
    "        for line in program_instructions:\n",
    "            new_line = ''\n",
    "            memory_address = bin(line[0])[2:].zfill(36)\n",
    "            for digit, mask_digit in zip(memory_address, program_mask):\n",
    "                if mask_digit == 'X' or digit == '0':\n",
    "                    new_line += mask_digit\n",
    "                else:\n",
    "                    new_line += digit\n",
    "            new_program.append((line[0],(new_line, line[1])))\n",
    "        program_values.append(new_program)\n",
    "    return program_values\n",
    "\n",
    "def get_combinations(program_values):\n",
    "    combination_values = {}\n",
    "    for program_value in program_values:\n",
    "        for program_mask in program_value:\n",
    "            program_mask_formatted = str(program_mask[1][0])\n",
    "            x_positions = [i for i in range(len(program_mask_formatted)) if program_mask_formatted.startswith('X', i)]\n",
    "            for combination in list(map(list, itertools.product(['0', '1'], repeat=program_mask_formatted.count('X')))):\n",
    "                new_value = [char for char in program_mask_formatted]\n",
    "                for i, index_val in enumerate(x_positions):\n",
    "                    new_value[index_val] = combination[i]\n",
    "                combination_values.update({int(''.join(new_value),2): (''.join(new_value),program_mask[1][1])})\n",
    "    return combination_values\n",
    "\n",
    "def get_values_left_in_memory(input_data):\n",
    "    formatted_input_data = format_data(input_data)\n",
    "    program_values = apply_bitmask_v2(formatted_input_data)\n",
    "    combination_values = get_combinations(program_values)\n",
    "\n",
    "    counter = Counter()\n",
    "    for k, v in combination_values.items():\n",
    "        counter[v[1]] += 1\n",
    "    \n",
    "    return sum([k*v for k,v in counter.items()])"
   ]
  },
  {
   "cell_type": "code",
   "execution_count": 9,
   "metadata": {},
   "outputs": [
    {
     "name": "stdout",
     "output_type": "stream",
     "text": [
      "12610010960049\n"
     ]
    }
   ],
   "source": [
    "# part 1\n",
    "print(apply_bitmask_v1(data)) # 12610010960049"
   ]
  },
  {
   "cell_type": "code",
   "execution_count": 10,
   "metadata": {},
   "outputs": [
    {
     "name": "stdout",
     "output_type": "stream",
     "text": [
      "3608464522781\n"
     ]
    }
   ],
   "source": [
    "# part 2\n",
    "print(get_values_left_in_memory(data)) # 3608464522781"
   ]
  }
 ],
 "metadata": {
  "kernelspec": {
   "display_name": "Python 3",
   "language": "python",
   "name": "python3"
  },
  "language_info": {
   "codemirror_mode": {
    "name": "ipython",
    "version": 3
   },
   "file_extension": ".py",
   "mimetype": "text/x-python",
   "name": "python",
   "nbconvert_exporter": "python",
   "pygments_lexer": "ipython3",
   "version": "3.8.0"
  }
 },
 "nbformat": 4,
 "nbformat_minor": 4
}
