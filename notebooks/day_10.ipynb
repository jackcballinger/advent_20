{
 "cells": [
  {
   "cell_type": "code",
   "execution_count": 1,
   "metadata": {},
   "outputs": [],
   "source": [
    "from collections import defaultdict, Counter\n",
    "\n",
    "from utils import get_file_location"
   ]
  },
  {
   "cell_type": "code",
   "execution_count": 2,
   "metadata": {},
   "outputs": [],
   "source": [
    "# data load\n",
    "with open(get_file_location(day=10)) as f:\n",
    "    data = [int(x) for x in f.read().split('\\n')]\n",
    "data = list(set(data))"
   ]
  },
  {
   "cell_type": "code",
   "execution_count": 3,
   "metadata": {},
   "outputs": [
    {
     "name": "stdout",
     "output_type": "stream",
     "text": [
      "2470\n"
     ]
    }
   ],
   "source": [
    "# part 1\n",
    "i, differences = 0, defaultdict(int)\n",
    "look_ahead = 3\n",
    "for x in set(data):\n",
    "    if x in range(i, i + look_ahead+1):\n",
    "        differences[x-i] += 1\n",
    "    i = x\n",
    "differences[3]+=1\n",
    "print(differences[1] * differences[3]) # 2470"
   ]
  },
  {
   "cell_type": "code",
   "execution_count": 5,
   "metadata": {},
   "outputs": [
    {
     "name": "stdout",
     "output_type": "stream",
     "text": [
      "1973822685184\n"
     ]
    }
   ],
   "source": [
    "# part 2\n",
    "counter_dict = Counter((0,))\n",
    "for i, row in enumerate(data):\n",
    "    counter_dict[row] = sum([counter_dict[y] for y in range(row-3, row) if y in data or y == 0])\n",
    "print(counter_dict[data[-1]]) # 1973822685184"
   ]
  }
 ],
 "metadata": {
  "kernelspec": {
   "display_name": "Python 3",
   "language": "python",
   "name": "python3"
  },
  "language_info": {
   "codemirror_mode": {
    "name": "ipython",
    "version": 3
   },
   "file_extension": ".py",
   "mimetype": "text/x-python",
   "name": "python",
   "nbconvert_exporter": "python",
   "pygments_lexer": "ipython3",
   "version": "3.8.0"
  }
 },
 "nbformat": 4,
 "nbformat_minor": 4
}
