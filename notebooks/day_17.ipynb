{
 "cells": [
  {
   "cell_type": "code",
   "execution_count": 1,
   "metadata": {},
   "outputs": [],
   "source": [
    "import numpy as np\n",
    "from scipy.ndimage.filters import convolve\n",
    "\n",
    "from utils import get_file_location"
   ]
  },
  {
   "cell_type": "code",
   "execution_count": 2,
   "metadata": {},
   "outputs": [],
   "source": [
    "# data load\n",
    "with open(get_file_location(day=17)) as f:\n",
    "    data = f.read().splitlines()"
   ]
  },
  {
   "cell_type": "code",
   "execution_count": 3,
   "metadata": {},
   "outputs": [],
   "source": [
    "def evolve(input_grid, neighbour_positions):\n",
    "    input_grid_padded = np.pad(input_grid, 1)\n",
    "    neighbours = convolve(\n",
    "        input_grid_padded,\n",
    "        neighbour_positions,\n",
    "        mode='wrap',\n",
    "        cval=0\n",
    "    )\n",
    "    next_grid = np.zeros(input_grid_padded.shape)\n",
    "    next_grid += (input_grid_padded == 1) & ((neighbours == 2) | (neighbours == 3))\n",
    "    next_grid += (input_grid_padded == 0) & (neighbours == 3)\n",
    "    return next_grid\n",
    "\n",
    "def create_positions_to_check_neighbours(n):\n",
    "    neighbour_positions = np.ones(tuple(n*[3]))\n",
    "    if n == 3:\n",
    "        neighbour_positions[1,1,1] = 0\n",
    "        return neighbour_positions\n",
    "    elif n == 4:\n",
    "        neighbour_positions[1,1,1,1] = 0\n",
    "        return neighbour_positions\n",
    "\n",
    "def create_grid(input_data, n):\n",
    "    x_dim = len(input_data[0])\n",
    "    y_dim = len(input_data)\n",
    "    z_dim = 1\n",
    "    w_dim = 1\n",
    "    if n == 3:\n",
    "        return np.zeros((z_dim, y_dim, x_dim))\n",
    "    elif n == 4:\n",
    "        return np.zeros((w_dim, z_dim, y_dim, x_dim))\n",
    "\n",
    "def update_grid(input_data, grid, n):\n",
    "    z = 0\n",
    "    for y, line in enumerate(input_data):\n",
    "        for x, char in enumerate(line):\n",
    "            put = 0 if char == '.' else 1\n",
    "            if n == 3:\n",
    "                grid[z,y,x] = put\n",
    "            elif n == 4:\n",
    "                grid[0, z, y, x] = put\n",
    "    return grid\n",
    "\n",
    "def number_remaining_active_cubes(input_data, n_dimensions):\n",
    "    grid = create_grid(input_data, n_dimensions)\n",
    "    updated_grid = update_grid(input_data, grid, n_dimensions)\n",
    "    potential_neighbours = create_positions_to_check_neighbours(n_dimensions)\n",
    "    for i in range(6):\n",
    "        updated_grid = evolve(updated_grid, neighbour_positions=potential_neighbours)\n",
    "    return updated_grid"
   ]
  },
  {
   "cell_type": "code",
   "execution_count": 4,
   "metadata": {},
   "outputs": [
    {
     "name": "stdout",
     "output_type": "stream",
     "text": [
      "267.0\n"
     ]
    }
   ],
   "source": [
    "# part 1\n",
    "print(number_remaining_active_cubes(data, 3).sum()) # 267"
   ]
  },
  {
   "cell_type": "code",
   "execution_count": 5,
   "metadata": {},
   "outputs": [
    {
     "name": "stdout",
     "output_type": "stream",
     "text": [
      "1812.0\n"
     ]
    }
   ],
   "source": [
    "# part 2\n",
    "print(number_remaining_active_cubes(data, 4).sum()) # 1812"
   ]
  }
 ],
 "metadata": {
  "kernelspec": {
   "display_name": "Python 3",
   "language": "python",
   "name": "python3"
  },
  "language_info": {
   "codemirror_mode": {
    "name": "ipython",
    "version": 3
   },
   "file_extension": ".py",
   "mimetype": "text/x-python",
   "name": "python",
   "nbconvert_exporter": "python",
   "pygments_lexer": "ipython3",
   "version": "3.8.0"
  }
 },
 "nbformat": 4,
 "nbformat_minor": 4
}
