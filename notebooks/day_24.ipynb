{
 "cells": [
  {
   "cell_type": "code",
   "execution_count": 49,
   "metadata": {},
   "outputs": [],
   "source": [
    "from collections import Counter\n",
    "\n",
    "from utils import get_file_location"
   ]
  },
  {
   "cell_type": "code",
   "execution_count": 29,
   "metadata": {},
   "outputs": [],
   "source": [
    "with open(get_file_location(day=24)) as f:\n",
    "    data = f.read().splitlines()"
   ]
  },
  {
   "cell_type": "code",
   "execution_count": 99,
   "metadata": {},
   "outputs": [],
   "source": [
    "movement_dict = {\n",
    "        'w':  (-2,  0),\n",
    "        'e':  ( 2,  0),\n",
    "        'sw': (-1, -1),\n",
    "        'nw': (-1,  1),\n",
    "        'se': ( 1, -1),\n",
    "        'ne': ( 1,  1)\n",
    "    }\n",
    "\n",
    "def format_data(input_data):\n",
    "    converted_instructions = {}\n",
    "    for line_num, line in enumerate(input_data):\n",
    "        i = 0\n",
    "        instructions = []\n",
    "        while i < len(line):\n",
    "            char = line[i]\n",
    "            if char == 'n' or char == 's':\n",
    "                instructions.append(line[i:i+2])\n",
    "                i += 2\n",
    "            else:\n",
    "                instructions.append(line[i])\n",
    "                i += 1\n",
    "        converted_instructions[line_num + 1] = instructions\n",
    "    return converted_instructions\n",
    "\n",
    "def find_black_tiles(input_data):\n",
    "    coords_list = []\n",
    "    for k, v in input_data.items():\n",
    "        coords = (0,0)\n",
    "        for instruction in v:\n",
    "            new_coords = (coords[0] + movement_dict[instruction][0],\n",
    "                          coords[1] + movement_dict[instruction][1])\n",
    "            coords = new_coords\n",
    "        coords_list.append(coords)\n",
    "    coord_occurances = Counter(coords_list)\n",
    "    return len({k: v for k, v in coord_occurances.items() if v%2 != 0})"
   ]
  },
  {
   "cell_type": "code",
   "execution_count": 100,
   "metadata": {},
   "outputs": [
    {
     "data": {
      "text/plain": [
       "394"
      ]
     },
     "execution_count": 100,
     "metadata": {},
     "output_type": "execute_result"
    }
   ],
   "source": [
    "# part 1\n",
    "find_black_tiles(format_data(data))"
   ]
  },
  {
   "cell_type": "code",
   "execution_count": null,
   "metadata": {},
   "outputs": [],
   "source": []
  }
 ],
 "metadata": {
  "kernelspec": {
   "display_name": "Python 3",
   "language": "python",
   "name": "python3"
  },
  "language_info": {
   "codemirror_mode": {
    "name": "ipython",
    "version": 3
   },
   "file_extension": ".py",
   "mimetype": "text/x-python",
   "name": "python",
   "nbconvert_exporter": "python",
   "pygments_lexer": "ipython3",
   "version": "3.8.0"
  }
 },
 "nbformat": 4,
 "nbformat_minor": 4
}
