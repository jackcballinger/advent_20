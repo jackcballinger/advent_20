{
 "cells": [
  {
   "cell_type": "code",
   "execution_count": 1,
   "metadata": {},
   "outputs": [],
   "source": [
    "from utils import get_file_location"
   ]
  },
  {
   "cell_type": "code",
   "execution_count": 60,
   "metadata": {},
   "outputs": [],
   "source": [
    "with open(get_file_location(day=22)) as f:\n",
    "    data = f.read()"
   ]
  },
  {
   "cell_type": "code",
   "execution_count": 61,
   "metadata": {},
   "outputs": [],
   "source": [
    "def format_data(input_data):\n",
    "    return {x.split(':')[0]: [int(y) for y in x.split(':')[1].splitlines()[1:]] for x in input_data.split('\\n\\n')}\n",
    "\n",
    "def determine_result(input_dict, cards_dict):\n",
    "    winner = 'Player 1' if input_dict['Player 1'] > input_dict['Player 2'] else 'Player 2'\n",
    "    cards_dict_new = {k: v[1:] for k, v in cards_dict.items()}\n",
    "    cards_dict_new[winner].extend(list(input_dict.values())) if winner == 'Player 1' else cards_dict_new[winner].extend(list(input_dict.values())[::-1])\n",
    "    return cards_dict_new\n",
    "\n",
    "def get_winner(input_data):\n",
    "    cards_dict = input_data\n",
    "    while True:\n",
    "        current_cards = {k:v[0] for k, v in cards_dict.items()}\n",
    "        updated_cards_dict = determine_result(current_cards, cards_dict)\n",
    "        if not updated_cards_dict['Player 1'] or not updated_cards_dict['Player 2']:\n",
    "            break\n",
    "        cards_dict = updated_cards_dict\n",
    "    winner_score = sum([x*((updated_cards_dict['Player 2'][::-1].index(x))+1) for x in updated_cards_dict['Player 2'][::-1]]) if not updated_cards_dict['Player 1'] else sum([x*((updated_cards_dict['Player 1'][::-1].index(x))+1) for x in updated_cards_dict['Player 1'][::-1]])\n",
    "    return winner_score"
   ]
  },
  {
   "cell_type": "code",
   "execution_count": 62,
   "metadata": {},
   "outputs": [
    {
     "name": "stdout",
     "output_type": "stream",
     "text": [
      "34324\n"
     ]
    }
   ],
   "source": [
    "# part 1\n",
    "winner_score = get_winner(format_data(data))\n",
    "print(winner_score)"
   ]
  }
 ],
 "metadata": {
  "kernelspec": {
   "display_name": "Python 3",
   "language": "python",
   "name": "python3"
  },
  "language_info": {
   "codemirror_mode": {
    "name": "ipython",
    "version": 3
   },
   "file_extension": ".py",
   "mimetype": "text/x-python",
   "name": "python",
   "nbconvert_exporter": "python",
   "pygments_lexer": "ipython3",
   "version": "3.8.0"
  }
 },
 "nbformat": 4,
 "nbformat_minor": 4
}
