{
 "cells": [
  {
   "cell_type": "code",
   "execution_count": 1,
   "metadata": {},
   "outputs": [],
   "source": [
    "from utils import get_file_location"
   ]
  },
  {
   "cell_type": "code",
   "execution_count": 2,
   "metadata": {},
   "outputs": [],
   "source": [
    "with open(get_file_location(day=22)) as f:\n",
    "    data = f.read()"
   ]
  },
  {
   "cell_type": "code",
   "execution_count": 3,
   "metadata": {},
   "outputs": [],
   "source": [
    "def format_data(input_data):\n",
    "    return {x.split(':')[0]: [int(y) for y in x.split(':')[1].splitlines()[1:]] for x in input_data.split('\\n\\n')}\n",
    "\n",
    "def determine_result(input_dict, cards_dict, winner_given=None):\n",
    "    if winner_given:\n",
    "        winner = winner_given\n",
    "    else:\n",
    "        winner = 'Player 1' if input_dict['Player 1'] > input_dict['Player 2'] else 'Player 2'\n",
    "    cards_dict_new = {k: v[1:] for k, v in cards_dict.items()}\n",
    "    cards_dict_new[winner].extend(list(input_dict.values())) if winner == 'Player 1' else cards_dict_new[winner].extend(list(input_dict.values())[::-1])\n",
    "    return cards_dict_new\n",
    "\n",
    "def play_game(input_data, recursion=False):\n",
    "    previous_cards, updated_cards_dict = [], {}\n",
    "    while True:\n",
    "        current_cards = {k:v[0] for k, v in input_data.items()}\n",
    "        if input_data not in previous_cards:\n",
    "            previous_cards.append(input_data)\n",
    "        else:\n",
    "            return updated_cards_dict, 'Player 1'\n",
    "        if ((len(input_data['Player 1']) - 1 >= current_cards['Player 1']) and (len(input_data['Player 2']) - 1 >= current_cards['Player 2'])) and recursion:\n",
    "            game_result = play_game({k: v[1:current_cards[k]+1] for k, v in input_data.items()})\n",
    "            if game_result[1]:\n",
    "                updated_cards_dict = determine_result(current_cards, input_data, game_result[1])\n",
    "            else:\n",
    "                updated_cards_dict = determine_result(current_cards, input_data, 'Player 1' if not game_result[0]['Player 2'] else 'Player 2')\n",
    "        else:\n",
    "            updated_cards_dict = determine_result(current_cards, input_data)\n",
    "        if not updated_cards_dict['Player 1'] or not updated_cards_dict['Player 2']:\n",
    "            return updated_cards_dict, None\n",
    "        input_data = updated_cards_dict\n",
    "\n",
    "def calculate_winner_score(final_cards_dict, winner=None):\n",
    "    if winner == None:\n",
    "        return sum([x*((final_cards_dict['Player 2'][::-1].index(x))+1) for x in final_cards_dict['Player 2'][::-1]]) if not final_cards_dict['Player 1'] else sum([x*((final_cards_dict['Player 1'][::-1].index(x))+1) for x in final_cards_dict['Player 1'][::-1]])\n",
    "    elif winner == 'Player 1':\n",
    "        return sum([x*((final_cards_dict['Player 1'][::-1].index(x))+1) for x in final_cards_dict['Player 1'][::-1]])"
   ]
  },
  {
   "cell_type": "code",
   "execution_count": 4,
   "metadata": {},
   "outputs": [
    {
     "name": "stdout",
     "output_type": "stream",
     "text": [
      "34324\n"
     ]
    }
   ],
   "source": [
    "# part 1\n",
    "final_game_state, _ = play_game(format_data(data))\n",
    "print(calculate_winner_score(final_game_state)) # 34324"
   ]
  },
  {
   "cell_type": "code",
   "execution_count": 5,
   "metadata": {},
   "outputs": [
    {
     "name": "stdout",
     "output_type": "stream",
     "text": [
      "33259\n"
     ]
    }
   ],
   "source": [
    "# part 2\n",
    "final_game_state, _ = play_game(format_data(data), recursion=True)\n",
    "print(calculate_winner_score(final_game_state)) # 33259"
   ]
  }
 ],
 "metadata": {
  "kernelspec": {
   "display_name": "Python 3",
   "language": "python",
   "name": "python3"
  },
  "language_info": {
   "codemirror_mode": {
    "name": "ipython",
    "version": 3
   },
   "file_extension": ".py",
   "mimetype": "text/x-python",
   "name": "python",
   "nbconvert_exporter": "python",
   "pygments_lexer": "ipython3",
   "version": "3.8.0"
  }
 },
 "nbformat": 4,
 "nbformat_minor": 4
}
