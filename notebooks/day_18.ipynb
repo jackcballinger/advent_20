{
 "cells": [
  {
   "cell_type": "code",
   "execution_count": 1,
   "metadata": {},
   "outputs": [],
   "source": [
    "from functools import reduce\n",
    "import numpy as np\n",
    "import re\n",
    "\n",
    "from utils import get_file_location"
   ]
  },
  {
   "cell_type": "code",
   "execution_count": 2,
   "metadata": {},
   "outputs": [],
   "source": [
    "with open(get_file_location(day=18)) as f:\n",
    "    data = f.read().splitlines()"
   ]
  },
  {
   "cell_type": "code",
   "execution_count": 3,
   "metadata": {},
   "outputs": [],
   "source": [
    "def operate(a, b):\n",
    "    assert isinstance(a, int)\n",
    "    assert isinstance(b, tuple)\n",
    "    if b[0].strip() == '+':\n",
    "        return a + int(b[1])\n",
    "    elif b[0].strip() == '*':\n",
    "        return a * int(b[1])\n",
    "\n",
    "def evaluate_additions(input_string):\n",
    "    new_string = input_string\n",
    "    while True:\n",
    "        if '+' not in new_string:\n",
    "            return new_string\n",
    "        replacement_dict = dict(zip(\n",
    "            [''.join([y for y in x]) for x in re.findall(re.compile(r'([0-9]+[\\s])([+()]\\s)([0-9]+)'), new_string)],\n",
    "            [str(eval(''.join([y.strip() for y in list(x)]))) for x in re.findall(re.compile(r'([0-9]+[\\s])([+()]\\s)([0-9]+)'), new_string)]\n",
    "        ))\n",
    "        for value, replacement_value in replacement_dict.items():\n",
    "            new_string = new_string[:new_string.rfind(value)] + new_string[new_string.rfind(value):].replace(value,  replacement_value)\n",
    "    \n",
    "def split_string(input_string, addition_first=False):\n",
    "    if addition_first:\n",
    "        input_string = evaluate_additions(input_string)\n",
    "    return [int(input_string.split(' ')[0])] + re.findall(re.compile(r'([+\\-\\*\\/()]\\s)([0-9]+)'), input_string)\n",
    "\n",
    "def evaluate_line(input_line, addition_first=False):\n",
    "    new_string = input_line\n",
    "    while True:\n",
    "        if '(' not in new_string:\n",
    "            break\n",
    "        replacement_dict = dict(zip(\n",
    "            re.findall(re.compile(r'\\([^()]*\\)'), new_string),\n",
    "            [str(reduce(operate, split_string(x.replace('(','').replace(')',''), addition_first))) for x in re.findall(re.compile(r'\\([^()]*\\)'), new_string)]\n",
    "        ))\n",
    "        for value, replacement_value in replacement_dict.items():\n",
    "            new_string = new_string.replace(value, replacement_value)\n",
    "    return reduce(operate, split_string(new_string, addition_first))"
   ]
  },
  {
   "cell_type": "code",
   "execution_count": 4,
   "metadata": {},
   "outputs": [
    {
     "name": "stdout",
     "output_type": "stream",
     "text": [
      "1451467526514\n"
     ]
    }
   ],
   "source": [
    "# part 1\n",
    "print(sum([evaluate_line(line, False) for line in data])) # 1451467526514"
   ]
  },
  {
   "cell_type": "code",
   "execution_count": 5,
   "metadata": {},
   "outputs": [
    {
     "name": "stdout",
     "output_type": "stream",
     "text": [
      "224973686321527\n"
     ]
    }
   ],
   "source": [
    "# part 2\n",
    "print(sum([evaluate_line(line, True) for line in data])) # 224973686321527"
   ]
  }
 ],
 "metadata": {
  "kernelspec": {
   "display_name": "Python 3",
   "language": "python",
   "name": "python3"
  },
  "language_info": {
   "codemirror_mode": {
    "name": "ipython",
    "version": 3
   },
   "file_extension": ".py",
   "mimetype": "text/x-python",
   "name": "python",
   "nbconvert_exporter": "python",
   "pygments_lexer": "ipython3",
   "version": "3.8.0"
  }
 },
 "nbformat": 4,
 "nbformat_minor": 4
}
