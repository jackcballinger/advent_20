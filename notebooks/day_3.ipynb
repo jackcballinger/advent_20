{
 "cells": [
  {
   "cell_type": "code",
   "execution_count": 1,
   "metadata": {},
   "outputs": [],
   "source": [
    "import itertools\n",
    "import numpy as np\n",
    "\n",
    "from utils import get_file_location\n",
    "\n",
    "# data load\n",
    "with open(get_file_location(day=3)) as f:\n",
    "    data = f.read().split('\\n')"
   ]
  },
  {
   "cell_type": "code",
   "execution_count": 2,
   "metadata": {},
   "outputs": [],
   "source": [
    "# configure data\n",
    "n = len(data)\n",
    "new_data = [line+(n*line) for line in data]"
   ]
  },
  {
   "cell_type": "code",
   "execution_count": 3,
   "metadata": {},
   "outputs": [],
   "source": [
    "# toboggan class\n",
    "class Toboggan:\n",
    "    def __init__(self, route):\n",
    "        self.route = route\n",
    "        self.x_pos, self.y_pos, self.trees = 0,0,0\n",
    "        \n",
    "    def navigate(self, x_step, y_step):\n",
    "        while True:\n",
    "            if self.y_pos >= len(self.route):\n",
    "                break\n",
    "            if self.route[self.y_pos][self.x_pos] == '#':\n",
    "                self.trees+=1\n",
    "            self.x_pos += x_step\n",
    "            self.y_pos += y_step\n",
    "        return self.trees"
   ]
  },
  {
   "cell_type": "code",
   "execution_count": 4,
   "metadata": {},
   "outputs": [
    {
     "name": "stdout",
     "output_type": "stream",
     "text": [
      "276\n"
     ]
    }
   ],
   "source": [
    "# part 1\n",
    "print(Toboggan(new_data).navigate(x_step=3, y_step=1))"
   ]
  },
  {
   "cell_type": "code",
   "execution_count": 5,
   "metadata": {},
   "outputs": [
    {
     "name": "stdout",
     "output_type": "stream",
     "text": [
      "7812180000\n"
     ]
    }
   ],
   "source": [
    "# part 2\n",
    "slope_list = [\n",
    "    (1,1),\n",
    "    (3,1),\n",
    "    (5,1),\n",
    "    (7,1),\n",
    "    (1,2)\n",
    "]\n",
    "\n",
    "print(np.prod([Toboggan(new_data).navigate(x_step=slope[0], y_step=slope[1]) for slope in slope_list]))"
   ]
  }
 ],
 "metadata": {
  "kernelspec": {
   "display_name": "Python 3",
   "language": "python",
   "name": "python3"
  },
  "language_info": {
   "codemirror_mode": {
    "name": "ipython",
    "version": 3
   },
   "file_extension": ".py",
   "mimetype": "text/x-python",
   "name": "python",
   "nbconvert_exporter": "python",
   "pygments_lexer": "ipython3",
   "version": "3.8.0"
  }
 },
 "nbformat": 4,
 "nbformat_minor": 4
}
