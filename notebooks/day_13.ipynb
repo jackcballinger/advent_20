{
 "cells": [
  {
   "cell_type": "code",
   "execution_count": 1,
   "metadata": {},
   "outputs": [],
   "source": [
    "import time\n",
    "\n",
    "from utils import get_file_location"
   ]
  },
  {
   "cell_type": "code",
   "execution_count": 2,
   "metadata": {},
   "outputs": [],
   "source": [
    "# data load\n",
    "with open(get_file_location(day=13)) as f:\n",
    "    data = f.read().split('\\n')"
   ]
  },
  {
   "cell_type": "code",
   "execution_count": 3,
   "metadata": {},
   "outputs": [],
   "source": [
    "class BusTimetable:\n",
    "    def __init__(self, input_data):\n",
    "        self.input_data = input_data\n",
    "        self.busses, self.reduced_busses, self.earliest_time = self._get_formatted_data()\n",
    "        self.least_frequent_bus = max([x for x in self.reduced_busses if x != 'x'])\n",
    "        self.relative_bus_indices = {int(bus): self.busses.index(bus) - self.busses.index(str(self.least_frequent_bus)) for bus in self.busses if bus != 'x'}\n",
    "        \n",
    "    def _get_formatted_data(self):\n",
    "        earliest_time = int(self.input_data[0])\n",
    "        busses = self.input_data[1].split(',')\n",
    "        reduced_busses = sorted([int(x) for x in busses if x != 'x'], reverse=True)\n",
    "        return busses, reduced_busses, earliest_time\n",
    "    \n",
    "    def get_earliest_bus(self):\n",
    "        current_time = self.earliest_time\n",
    "        while True:\n",
    "            if any(v == 0 for v in [current_time % bus for bus in self.reduced_busses]):\n",
    "                bus_id = [bus for bus in self.reduced_busses if current_time % bus == 0].pop()\n",
    "                return (current_time - self.earliest_time) * bus_id\n",
    "            current_time += 1\n",
    "            \n",
    "    def get_earliest_timestamp(self):\n",
    "        current_time_stamp = iterator = self.least_frequent_bus\n",
    "        i = 1\n",
    "        while True:\n",
    "            if (current_time_stamp + self.relative_bus_indices[self.reduced_busses[i]]) % self.reduced_busses[i] == 0:\n",
    "                if i == len(self.reduced_busses)-1:\n",
    "                    return (current_time_stamp) + min(self.relative_bus_indices.values())\n",
    "                iterator *= self.reduced_busses[i]\n",
    "                i+=1\n",
    "            current_time_stamp += iterator"
   ]
  },
  {
   "cell_type": "code",
   "execution_count": 4,
   "metadata": {},
   "outputs": [],
   "source": [
    "bus_timetable = BusTimetable(data)"
   ]
  },
  {
   "cell_type": "code",
   "execution_count": 5,
   "metadata": {},
   "outputs": [
    {
     "name": "stdout",
     "output_type": "stream",
     "text": [
      "104\n"
     ]
    }
   ],
   "source": [
    "# part 1\n",
    "print(bus_timetable.get_earliest_bus()) # 104"
   ]
  },
  {
   "cell_type": "code",
   "execution_count": 6,
   "metadata": {},
   "outputs": [
    {
     "name": "stdout",
     "output_type": "stream",
     "text": [
      "842186186521918\n"
     ]
    }
   ],
   "source": [
    "# part 2\n",
    "print(bus_timetable.get_earliest_timestamp()) # 842186186521918"
   ]
  },
  {
   "cell_type": "code",
   "execution_count": null,
   "metadata": {},
   "outputs": [],
   "source": []
  }
 ],
 "metadata": {
  "kernelspec": {
   "display_name": "Python 3",
   "language": "python",
   "name": "python3"
  },
  "language_info": {
   "codemirror_mode": {
    "name": "ipython",
    "version": 3
   },
   "file_extension": ".py",
   "mimetype": "text/x-python",
   "name": "python",
   "nbconvert_exporter": "python",
   "pygments_lexer": "ipython3",
   "version": "3.8.0"
  }
 },
 "nbformat": 4,
 "nbformat_minor": 4
}
