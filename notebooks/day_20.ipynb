{
 "cells": [
  {
   "cell_type": "code",
   "execution_count": 1,
   "metadata": {},
   "outputs": [],
   "source": [
    "from collections import defaultdict\n",
    "from itertools import chain\n",
    "import numpy as np\n",
    "\n",
    "from utils import get_file_location"
   ]
  },
  {
   "cell_type": "code",
   "execution_count": 2,
   "metadata": {},
   "outputs": [],
   "source": [
    "with open(get_file_location(day=20)) as f:\n",
    "    data = f.read()"
   ]
  },
  {
   "cell_type": "code",
   "execution_count": 3,
   "metadata": {},
   "outputs": [],
   "source": [
    "def format_data(input_data):\n",
    "    return {int(x.split('\\n')[0].replace(':','').split(' ')[1]):\n",
    "            np.array(x.split('\\n')[1:]) for x in input_data.split('\\n\\n')}\n",
    "\n",
    "def get_edges(formatted_data):\n",
    "    return {k:\n",
    "            {'top': v[0],\n",
    "             'bottom': v[-1],\n",
    "             'left': ''.join([y[0] for y in v]),\n",
    "             'right': ''.join([y[-1] for y in v])\n",
    "            } for k, v in formatted_data.items()}\n",
    "formatted_data = format_data(data)\n",
    "data_edges = get_edges(formatted_data)"
   ]
  },
  {
   "cell_type": "code",
   "execution_count": 4,
   "metadata": {},
   "outputs": [
    {
     "name": "stdout",
     "output_type": "stream",
     "text": [
      "174206308298779\n"
     ]
    }
   ],
   "source": [
    "# part 1\n",
    "edge_count_dict = defaultdict(list)\n",
    "all_rows = list(chain(*[[v for v in x.values()] for x in data_edges.values()]))\n",
    "for k, v in data_edges.items():\n",
    "    for row in v.values():\n",
    "        if all_rows.count(row) == 2:\n",
    "            edge_count_dict[k].append(all_rows.count(row)-1)\n",
    "        elif all_rows.count(row) == 1:\n",
    "            edge_count_dict[k].append(all_rows.count(row[::-1])) \n",
    "print(np.product([k for k, v in edge_count_dict.items() if sum(v) == 2])) # 174206308298779"
   ]
  }
 ],
 "metadata": {
  "kernelspec": {
   "display_name": "Python 3",
   "language": "python",
   "name": "python3"
  },
  "language_info": {
   "codemirror_mode": {
    "name": "ipython",
    "version": 3
   },
   "file_extension": ".py",
   "mimetype": "text/x-python",
   "name": "python",
   "nbconvert_exporter": "python",
   "pygments_lexer": "ipython3",
   "version": "3.8.0"
  }
 },
 "nbformat": 4,
 "nbformat_minor": 4
}
