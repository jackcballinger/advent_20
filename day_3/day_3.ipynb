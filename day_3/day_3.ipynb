{
 "cells": [
  {
   "cell_type": "code",
   "execution_count": 53,
   "metadata": {},
   "outputs": [],
   "source": [
    "import numpy as np\n",
    "\n",
    "# read in data\n",
    "with open('puzzle_input.txt') as f:\n",
    "    data = f.read().split('\\n')"
   ]
  },
  {
   "cell_type": "code",
   "execution_count": 54,
   "metadata": {},
   "outputs": [],
   "source": [
    "n = 100\n",
    "new_data = [line+(n*line) for line in data]"
   ]
  },
  {
   "cell_type": "code",
   "execution_count": 58,
   "metadata": {},
   "outputs": [
    {
     "name": "stdout",
     "output_type": "stream",
     "text": [
      "276\n"
     ]
    }
   ],
   "source": [
    "# part 1\n",
    "x_pos = 0\n",
    "y_pos = 0\n",
    "x_step = 3\n",
    "y_step = 1\n",
    "trees = 0\n",
    "while True:\n",
    "    if y_pos >= len(new_data):\n",
    "        break\n",
    "    if new_data[y_pos][x_pos] == '#':\n",
    "        trees+=1\n",
    "    x_pos += x_step\n",
    "    y_pos += y_step\n",
    "print(trees)"
   ]
  },
  {
   "cell_type": "code",
   "execution_count": 59,
   "metadata": {},
   "outputs": [
    {
     "name": "stdout",
     "output_type": "stream",
     "text": [
      "7812180000\n"
     ]
    }
   ],
   "source": [
    "# part 2\n",
    "pos_list = [\n",
    "    (1,1),\n",
    "    (3,1),\n",
    "    (5,1),\n",
    "    (7,1),\n",
    "    (1,2)\n",
    "]\n",
    "\n",
    "total_trees = []\n",
    "for pos in pos_list:\n",
    "    x_pos = 0\n",
    "    y_pos = 0\n",
    "    x_step = pos[0]\n",
    "    y_step = pos[1]\n",
    "    trees = 0\n",
    "    while True:\n",
    "        if y_pos >= len(new_data):\n",
    "            break\n",
    "        if new_data[y_pos][x_pos] == '#':\n",
    "            trees+=1\n",
    "        x_pos += x_step\n",
    "        y_pos += y_step\n",
    "    total_trees.append(trees)\n",
    "print(np.prod(total_trees))"
   ]
  },
  {
   "cell_type": "code",
   "execution_count": null,
   "metadata": {},
   "outputs": [],
   "source": []
  }
 ],
 "metadata": {
  "kernelspec": {
   "display_name": "Python 3",
   "language": "python",
   "name": "python3"
  },
  "language_info": {
   "codemirror_mode": {
    "name": "ipython",
    "version": 3
   },
   "file_extension": ".py",
   "mimetype": "text/x-python",
   "name": "python",
   "nbconvert_exporter": "python",
   "pygments_lexer": "ipython3",
   "version": "3.8.0"
  }
 },
 "nbformat": 4,
 "nbformat_minor": 4
}
