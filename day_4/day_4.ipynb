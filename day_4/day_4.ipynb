{
 "cells": [
  {
   "cell_type": "code",
   "execution_count": 71,
   "metadata": {},
   "outputs": [],
   "source": [
    "import re"
   ]
  },
  {
   "cell_type": "code",
   "execution_count": 42,
   "metadata": {},
   "outputs": [],
   "source": [
    "with open('puzzle_input.txt') as f:\n",
    "    data = [{y.split(':')[0]:y.split(':')[1] for y in x.replace('\\n',' ').split(' ') if y.split(':')[0] != 'cid'} for x in f.read().split('\\n\\n')]"
   ]
  },
  {
   "cell_type": "code",
   "execution_count": 44,
   "metadata": {},
   "outputs": [
    {
     "name": "stdout",
     "output_type": "stream",
     "text": [
      "264\n"
     ]
    }
   ],
   "source": [
    "# part 1\n",
    "print(sum([1 if len(x) == 7 else 0 for x in data]))"
   ]
  },
  {
   "cell_type": "code",
   "execution_count": 159,
   "metadata": {},
   "outputs": [
    {
     "name": "stdout",
     "output_type": "stream",
     "text": [
      "224\n"
     ]
    }
   ],
   "source": [
    "# part 2\n",
    "class Validator:\n",
    "    def __init__(self, passport):\n",
    "        self.passport = passport\n",
    "        \n",
    "    def _validate_birth_year(self, birth_year):\n",
    "        return (len(birth_year)==4) and (1920<=int(birth_year)<=2002)\n",
    "    \n",
    "    def _validate_issue_year(self, issue_year):\n",
    "        return (len(issue_year)==4) and (2010<=int(issue_year)<=2020)\n",
    "\n",
    "    def _validate_expiration_year(self, expiration_year):\n",
    "        return (len(expiration_year)==4) and (2020<=int(expiration_year)<=2030)\n",
    "    \n",
    "    def _validate_height(self, height):\n",
    "        hgt_regex = re.compile('(:?^(1[5-8][0-9]|19[0-3])(cm)$|^(5[9]|[6][0-9]|7[0-6])(in)$)')\n",
    "        return bool(hgt_regex.match(height))\n",
    "    \n",
    "    def _validate_hair_colour(self, hair_colour):\n",
    "        hcl_regex = re.compile('^#([0-9a-f]){6}$')\n",
    "        return bool(hcl_regex.match(hair_colour))\n",
    "    \n",
    "    def _validate_eye_colour(self, eye_colour):\n",
    "        return eye_colour in ['amb','blu','brn','gry','grn','hzl','oth']\n",
    "    \n",
    "    def _validate_passport_id(self, passport_id):\n",
    "        pid_regex = re.compile('^[0-9]{9}$')\n",
    "        return bool(pid_regex.match(passport_id))\n",
    "    \n",
    "    def validate_passport(self):\n",
    "        return all(\n",
    "            elem in passport for elem in ['byr','iyr','eyr','hgt','hcl','ecl','pid']\n",
    "        ) and len(self.passport) >= 7 and all(\n",
    "            [\n",
    "                    self._validate_birth_year(self.passport['byr']),\n",
    "                    self._validate_issue_year(self.passport['iyr']),\n",
    "                    self._validate_expiration_year(self.passport['eyr']),\n",
    "                    self._validate_height(self.passport['hgt']),\n",
    "                    self._validate_hair_colour(self.passport['hcl']),\n",
    "                    self._validate_eye_colour(self.passport['ecl']),\n",
    "                    self._validate_passport_id(self.passport['pid'])\n",
    "            ]\n",
    "        )\n",
    "print(sum([Validator(passport).validate_passport() for passport in data]))"
   ]
  }
 ],
 "metadata": {
  "kernelspec": {
   "display_name": "Python 3",
   "language": "python",
   "name": "python3"
  },
  "language_info": {
   "codemirror_mode": {
    "name": "ipython",
    "version": 3
   },
   "file_extension": ".py",
   "mimetype": "text/x-python",
   "name": "python",
   "nbconvert_exporter": "python",
   "pygments_lexer": "ipython3",
   "version": "3.8.0"
  }
 },
 "nbformat": 4,
 "nbformat_minor": 4
}
